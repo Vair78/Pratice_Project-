{
 "cells": [
  {
   "cell_type": "markdown",
   "id": "67823159",
   "metadata": {},
   "source": [
    "# P-2 End to End ChatBot Using Python\n"
   ]
  },
  {
   "cell_type": "markdown",
   "id": "570840ac",
   "metadata": {},
   "source": [
    "* A ChatBot is a Computer program that understands the intent of your query to answer with a solution.\n",
    "* Chatbots are the most popular application of Natural Language Processing in the Industry."
   ]
  },
  {
   "cell_type": "code",
   "execution_count": 16,
   "id": "d17bb92c",
   "metadata": {},
   "outputs": [],
   "source": [
    "## Getting Scrip Error in Streamlit"
   ]
  },
  {
   "cell_type": "markdown",
   "id": "0289f484",
   "metadata": {},
   "source": [
    "### What is an END to END Chatbot?\n",
    "* An END to end chatbot refers to a chatbot that can hanlde a complete conversation from start to finish without requiring human assistance.\n",
    "* to Create an end to end chatbot, you need to wrtie a program that can understand user requested, generate appropirate reqsponses and take action when neccessary.\n",
    "* This invloves collecting data, chooesing a program language and NLP tools, training the chatbot and testing and reginig it before making it available to users.\n",
    "\n",
    "* Once deployed users can interact with the chatbot by sending it multiple requsts and then chatbot can handle the entire conversation itself.\n",
    "* To Create an end to end chatbot using Python we can follow step:\n",
    "        1. Define Intents\n",
    "        2. Create Training Data\n",
    "        3. Traing the chatbot\n",
    "        4. Build the Chatbot\n",
    "        5. Test the Chatbot\n",
    "        6. Deploy the Chatbot\n"
   ]
  },
  {
   "cell_type": "code",
   "execution_count": null,
   "id": "0cf548ec",
   "metadata": {},
   "outputs": [],
   "source": [
    "\n"
   ]
  },
  {
   "cell_type": "code",
   "execution_count": null,
   "id": "b362727d",
   "metadata": {},
   "outputs": [],
   "source": []
  },
  {
   "cell_type": "code",
   "execution_count": 3,
   "id": "7090ab91",
   "metadata": {},
   "outputs": [
    {
     "name": "stderr",
     "output_type": "stream",
     "text": [
      "[nltk_data] Downloading package punkt to C:\\Users\\Digital\n",
      "[nltk_data]     Next\\AppData\\Roaming\\nltk_data...\n",
      "[nltk_data]   Package punkt is already up-to-date!\n"
     ]
    },
    {
     "data": {
      "text/plain": [
       "True"
      ]
     },
     "execution_count": 3,
     "metadata": {},
     "output_type": "execute_result"
    }
   ],
   "source": [
    "import matplotlib.pyplot as plt\n",
    "import os              # OS python is currently running \n",
    "import nltk            # Natural Language toolkit\n",
    "import ssl             # Secure Sockets Layer\n",
    "import streamlit as st\n",
    "import random\n",
    "from sklearn.feature_extraction.text import TfidfVectorizer\n",
    "from sklearn.linear_model import LogisticRegression\n",
    "\n",
    "ssl._create_default_https_context=ssl._create_unverified_context\n",
    "nltk.data.path.append(os.path.abspath(\"nltk_data\"))\n",
    "nltk.download('punkt')"
   ]
  },
  {
   "cell_type": "markdown",
   "id": "0c017977",
   "metadata": {},
   "source": [
    "* The OS module in Python is a part of the standard library of the programming language. When imported, it lets the user interact with the native OS Python is currently running on.\n",
    "\n",
    "* NLTK, or Natural Language Toolkit, is a Python package that you can use for NLP. A lot of the data that you could be analyzing is unstructured data and contains human-readable text\n",
    "\n",
    "* SSL stands for Secure Sockets Layer and is designed to create secure connection between client and server. Secure means that connection is encrypted and therefore protected from eavesdropping. It also allows to validate server identity\n",
    "\n",
    "* Streamlit is a free and open-source framework to rapidly build and share beautiful machine learning and data science web apps. It is a Python-based library specifically designed for machine learning engineers.\n",
    "\n",
    "* What is import random in Python? The random module in Python defines a series of functions for generating or manipulating random integers. The import random loads the random module, which contains a number of random number generation-related functions.\n",
    "\n",
    "* The TfidfVectorizer converts a collection of raw documents into a matrix of TF-IDF features. FastText and Word2Vec Word Embeddings Python Implementation\n",
    "\n",
    "* Logistic regression is a statistical method that is used for building machine learning models where the dependent variable is dichotomous: i.e. binary. Logistic regression is used to describe data and the relationship between one dependent variable and one or more independent variables."
   ]
  },
  {
   "cell_type": "markdown",
   "id": "17cb6fdc",
   "metadata": {},
   "source": [
    "### Now Let's define some intenst of the chatbot. You can add more intents to make the chatbot more helpful and more function"
   ]
  },
  {
   "cell_type": "code",
   "execution_count": 4,
   "id": "8e7557ac",
   "metadata": {},
   "outputs": [],
   "source": [
    "intents =[\n",
    "    {\n",
    "        \"tag\":\"Greenting\",\n",
    "        \"patterns\":[\"Hi\", \"Hello\",\"Hey\",\"How are you\", \"What's up\"],\n",
    "        \"responses\":[\"Hi there\",\"Hello\",\"Hey\",\"I'am fine, thank you\",\"Nothing much\"]\n",
    "    },\n",
    "    {\n",
    "        \"tag\":\"goodbye\",\n",
    "        \"patterns\":[\"Bye\",\"See you Later\",\"Goodbye\",\"Take Care\"],\n",
    "        \"responses\":[\"Goodbye\",\"See you Later\",\"Take Care\"]\n",
    "    },\n",
    "    {\n",
    "        \"tag\":\"thanks\",\n",
    "        \"patterns\":[\"Thank you\",\"Thanks\",\"Thanks a lot\",\"I appreciate it\"],\n",
    "        \"responses\":[\"You're welcome\",\"No Problem\",\"Glad I could help\"]        \n",
    "    },\n",
    "    {\n",
    "        \"tag\":\"about\",\n",
    "        \"patterns\":[\"What can you do\",\"who are you\",\"What are you\",\"What is your purpost\"],\n",
    "        \"responses\":[\"I am a chatbot\",\"My purpose is to assist you\",\"I can answer questions and provide asisstance\"]\n",
    "                \n",
    "    },\n",
    "    {\n",
    "        \"tag\":\"help\",\n",
    "        \"patterns\":[\"Help\",\"I need help\",\"Can you help me\",\"What should I do\"],\n",
    "        \"responses\":[\"Sure, what do you need help with?\",\"I'm here to help. What's the problem?\",\"How can I assist you?\"]\n",
    "                \n",
    "    },\n",
    "    {\n",
    "        \"tag\":\"age\",\n",
    "        \"patterns\":[\"How old are you\",\"What's your age\"],\n",
    "        \"responses\":[\"I don't have an age. I'm a chatbot.\",\"I was just born in the digital world\",\"Age is just number for me\"]\n",
    "    },\n",
    "    {\n",
    "        \"tag\":\"weather\",\n",
    "        \"patterns\":[\"What's the weather like\",\"How's te weather today\"],\n",
    "        \"responses\":[\"I'm Sorry, I cannot provide real-time weather informaiton.\",\"you can check the weather on a app or website\"]\n",
    "    },\n",
    "    {\n",
    "        \"tag\":\"budget\",\n",
    "        \"patterns\":[\"How can I make a budget\",\"What's a good budgeting strategy\",\"How do i create budget\"],\n",
    "        \"responses\":[\"To make a budget,start by tracking your income and expenses. Then, allocate your income towards essential expenses like rent, food and bills. Next allocate some of your income towards saving and debt repayment.Finally allocate  the reminder of your income towards discretionary expensee like entertainment and hobbies.\", \" a good budgeting strategy is to use the 50/30/20 rule.This is mean allocating 50% your income essential expenses, 30% towards discretionary expenses, and 20% towards saving and debt repayment\",\"To create a budget ,start by setting  goals yourself.then your income and expneses for a few month to get a sense of where your money is going. Next create a budget by allocating your income towrds essential expenses,saving and debt payment\"]\n",
    "    },\n",
    "    {\n",
    "        \"tag\":\"Credit_score\",\n",
    "        \"patterns\":[\"What is a credit score\",\"how do i check my credit score\",\"How can I improve my Credit Score\"],\n",
    "        \"responses\":[\"A Credit score is number that represent your creditworthiness. It is based on your credit history and is used by lenders to determine wheather or not to lend your money. The higher your credit score, the more likely you are to be approved for credit.\",\"You can check your credit score for free on several website such as Credit Karma and Credit Sesame.\"]\n",
    "    }\n",
    "]"
   ]
  },
  {
   "cell_type": "markdown",
   "id": "3837f914",
   "metadata": {},
   "source": [
    "### Now let's Prepare the Intents and Train the a Machine Learning Model for the chatbot"
   ]
  },
  {
   "cell_type": "code",
   "execution_count": 5,
   "id": "7e6919b1",
   "metadata": {},
   "outputs": [],
   "source": [
    "# Create the Vectorizer and Classifier\n",
    "vectorizer = TfidfVectorizer()\n",
    "clf = LogisticRegression(random_state=0, max_iter=10000)\n"
   ]
  },
  {
   "cell_type": "code",
   "execution_count": 6,
   "id": "2524422f",
   "metadata": {},
   "outputs": [],
   "source": [
    "# Pre-Process the Data\n",
    "\n",
    "tags = []\n",
    "patterns = []\n",
    "for intent in intents:\n",
    "    for pattern in intent['patterns']:\n",
    "        tags.append(intent['tag'])\n",
    "        patterns.append(pattern)\n",
    "        "
   ]
  },
  {
   "cell_type": "code",
   "execution_count": 7,
   "id": "aac063b1",
   "metadata": {},
   "outputs": [
    {
     "data": {
      "text/plain": [
       "LogisticRegression(max_iter=10000, random_state=0)"
      ]
     },
     "execution_count": 7,
     "metadata": {},
     "output_type": "execute_result"
    }
   ],
   "source": [
    "# Training the model\n",
    "x = vectorizer.fit_transform(patterns)\n",
    "y = tags\n",
    "clf.fit(x,y)"
   ]
  },
  {
   "cell_type": "code",
   "execution_count": 8,
   "id": "24bdbd32",
   "metadata": {},
   "outputs": [],
   "source": [
    "### Now let's Write a python function to chat with the chatbot\n",
    "\n",
    "def chatbot(input_text):\n",
    "    input_text = vectorizer.transform([input_text])\n",
    "    tag = clf.predict(input_text)[0]\n",
    "    for intent in intents:\n",
    "        if intent['tag'] == tag:\n",
    "            response = random.choice(intent['responses'])\n",
    "            return response"
   ]
  },
  {
   "cell_type": "markdown",
   "id": "c0eb4f6b",
   "metadata": {},
   "source": [
    "* Till now we have created the chatbot. After running the code you can interact with the chatbot in the terminal itself.\n",
    "* To turn this chatbot Into an end to end chatbot we need to deploy it to intract with the chatbot using a user interface.\n",
    "* To Deploy the chatbot I will use the streamlit library in Python, which provides amazing features to create a user interface for a Machine Learning application in just a lines of code."
   ]
  },
  {
   "cell_type": "code",
   "execution_count": 15,
   "id": "fdcc73db",
   "metadata": {
    "scrolled": true
   },
   "outputs": [],
   "source": [
    "counter = 0 \n",
    "\n",
    "def main():\n",
    "    global counter\n",
    "    st.title(\"Chatbot\")\n",
    "    st.title(\"Welcome to the chatbot. Please type a msg and press Enter to start.\")\n",
    "    \n",
    "    counter +=1\n",
    "    user_input = st.text_input(\"You:\", key=f\"user_input_{counter}\")\n",
    "    \n",
    "    if user_input:\n",
    "        response = chatbot(user_input)\n",
    "        st.text_area(\"Chatbot:\", value = response, height =100, max_chars= None, key =f\"chatbot_response_{counter}\")\n",
    "                     \n",
    "        if response.lower() in ['goodbye','bye']:\n",
    "            st.write(\"Thank you for chatting with me. Have a greate day!\")\n",
    "            st.stop()\n",
    "if __name__=='__main__':\n",
    "    main()"
   ]
  },
  {
   "cell_type": "code",
   "execution_count": null,
   "id": "543c0134",
   "metadata": {},
   "outputs": [],
   "source": []
  },
  {
   "cell_type": "code",
   "execution_count": null,
   "id": "f8740047",
   "metadata": {},
   "outputs": [],
   "source": []
  },
  {
   "cell_type": "code",
   "execution_count": null,
   "id": "1f099516",
   "metadata": {},
   "outputs": [],
   "source": []
  }
 ],
 "metadata": {
  "kernelspec": {
   "display_name": "Python 3 (ipykernel)",
   "language": "python",
   "name": "python3"
  },
  "language_info": {
   "codemirror_mode": {
    "name": "ipython",
    "version": 3
   },
   "file_extension": ".py",
   "mimetype": "text/x-python",
   "name": "python",
   "nbconvert_exporter": "python",
   "pygments_lexer": "ipython3",
   "version": "3.9.13"
  }
 },
 "nbformat": 4,
 "nbformat_minor": 5
}
